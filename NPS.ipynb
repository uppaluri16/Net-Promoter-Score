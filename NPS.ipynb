{
  "nbformat": 4,
  "nbformat_minor": 0,
  "metadata": {
    "colab": {
      "provenance": [],
      "authorship_tag": "ABX9TyOGzteHxUCxX6lF5v5wFvMg",
      "include_colab_link": true
    },
    "kernelspec": {
      "name": "python3",
      "display_name": "Python 3"
    },
    "language_info": {
      "name": "python"
    }
  },
  "cells": [
    {
      "cell_type": "markdown",
      "metadata": {
        "id": "view-in-github",
        "colab_type": "text"
      },
      "source": [
        "<a href=\"https://colab.research.google.com/github/uppaluri16/Net-Promoter-Score/blob/main/NPS.ipynb\" target=\"_parent\"><img src=\"https://colab.research.google.com/assets/colab-badge.svg\" alt=\"Open In Colab\"/></a>"
      ]
    },
    {
      "cell_type": "code",
      "source": [
        "import numpy as np\n",
        "class NPS:\n",
        "  def __init__(self, file):\n",
        "    self.file = file\n",
        "  def calculate_NPS(self):\n",
        "    with open(self.file,'r') as f:\n",
        "      score = f.read().splitlines()\n",
        "      arr = np.array(score, ndmin=1, dtype=int)\n",
        "\n",
        "class NPS:\n",
        "  def __init__(self, file):\n",
        "    self.file = file\n",
        "  def calculate_NPS(self):\n",
        "    with open(self.file,'r') as f:\n",
        "      score = f.read().splitlines()\n",
        "      arr = np.array(score, ndmin=1, dtype=int)\n",
        "\n",
        "    # Separate promoters and detractors score\n",
        "    promoters_score = arr[arr>=9]\n",
        "    detractors_score = arr[ (arr>=0) & (arr<=6) ]\n",
        "\n",
        "    # Find the percentage of promoters and detractors\n",
        "    promoters_percentage = (len(promoters_score)/len(arr))*100\n",
        "    detractors_percentage = (len(detractors_score)/len(arr))*100\n",
        "\n",
        "    # Calculate Net Promoter Score\n",
        "    nps = promoters_percentage - detractors_percentage\n",
        "\n",
        "    return round(nps,2)\n",
        "\n",
        "    promoters_percentage = (len(promoters_score)/len(arr))*100\n",
        "    detractors_percentage = (len(detractors_score)/len(arr))*100\n",
        "\n",
        "    # Calculate Net Promoter Score\n",
        "    nps = promoters_percentage - detractors_percentage\n",
        "    f.close()\n",
        "\n",
        "    return nps"
      ],
      "metadata": {
        "id": "GYftOjQ0CtxG"
      },
      "execution_count": null,
      "outputs": []
    },
    {
      "cell_type": "code",
      "source": [
        "NPS('/content/sample_data/survey.txt').calculate_NPS()"
      ],
      "metadata": {
        "colab": {
          "base_uri": "https://localhost:8080/"
        },
        "id": "E2vi5p3JEMmu",
        "outputId": "82bc1362-a7f3-4d1b-863f-ac44d00e6f6a"
      },
      "execution_count": null,
      "outputs": [
        {
          "output_type": "execute_result",
          "data": {
            "text/plain": [
              "23.74"
            ]
          },
          "metadata": {},
          "execution_count": 22
        }
      ]
    }
  ]
}