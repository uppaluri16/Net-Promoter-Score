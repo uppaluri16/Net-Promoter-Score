{
  "nbformat": 4,
  "nbformat_minor": 0,
  "metadata": {
    "colab": {
      "provenance": [],
      "authorship_tag": "ABX9TyPTYUXc5Th6tzxoKsuexOSL",
      "include_colab_link": true
    },
    "kernelspec": {
      "name": "python3",
      "display_name": "Python 3"
    },
    "language_info": {
      "name": "python"
    }
  },
  "cells": [
    {
      "cell_type": "markdown",
      "metadata": {
        "id": "view-in-github",
        "colab_type": "text"
      },
      "source": [
        "<a href=\"https://colab.research.google.com/github/uppaluri16/Net-Promoter-Score/blob/main/nps.ipynb\" target=\"_parent\"><img src=\"https://colab.research.google.com/assets/colab-badge.svg\" alt=\"Open In Colab\"/></a>"
      ]
    },
    {
      "cell_type": "code",
      "source": [
        "import numpy as np\n",
        "\n",
        "class NPS:\n",
        "  def __init__(self, file):\n",
        "    self.file = file\n",
        "\n",
        "  def calculate_NPS(self):\n",
        "    with open(self.file,'r') as f:\n",
        "      score = f.read().splitlines()\n",
        "      arr = np.array(score, ndmin=1, dtype=int)\n",
        "      n = len(arr)\n",
        "\n",
        "    # Separate promoters and detractors score\n",
        "    promoters_score = len(arr[arr>=9])/n\n",
        "    detractors_score = len(arr[(arr>=0) & (arr<=6)])/n\n",
        "\n",
        "    # Calculate Net Promoter Score\n",
        "    nps = (promoters_score - detractors_score) * 100\n",
        "\n",
        "    # Close the File\n",
        "    f.close()\n",
        "\n",
        "    # Round the NPS to 2 decimal places\n",
        "    return round(nps,2)"
      ],
      "metadata": {
        "id": "GYftOjQ0CtxG"
      },
      "execution_count": null,
      "outputs": []
    },
    {
      "cell_type": "code",
      "source": [
        "NPS('/content/sample_data/survey.txt').calculate_NPS()"
      ],
      "metadata": {
        "colab": {
          "base_uri": "https://localhost:8080/"
        },
        "id": "E2vi5p3JEMmu",
        "outputId": "b4299390-5741-4fae-9fbc-6da9573ffb7d"
      },
      "execution_count": null,
      "outputs": [
        {
          "output_type": "execute_result",
          "data": {
            "text/plain": [
              "23.74"
            ]
          },
          "metadata": {},
          "execution_count": 3
        }
      ]
    }
  ]
}